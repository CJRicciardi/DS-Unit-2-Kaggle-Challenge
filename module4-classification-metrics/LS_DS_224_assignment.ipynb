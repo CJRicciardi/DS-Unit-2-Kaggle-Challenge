{
 "cells": [
  {
   "cell_type": "markdown",
   "metadata": {},
   "source": [
    "Lambda School Data Science\n",
    "\n",
    "*Unit 2, Sprint 2, Module 4*\n",
    "\n",
    "---"
   ]
  },
  {
   "cell_type": "markdown",
   "metadata": {
    "colab_type": "text",
    "id": "nCc3XZEyG3XV"
   },
   "source": [
    "# Classification Metrics\n",
    "\n",
    "## Assignment\n",
    "- [x] If you haven't yet, [review requirements for your portfolio project](https://lambdaschool.github.io/ds/unit2), then submit your dataset.\n",
    "- [ ] Plot a confusion matrix for your Tanzania Waterpumps model.\n",
    "- [ ] Continue to participate in our Kaggle challenge. Every student should have made at least one submission that scores at least 70% accuracy (well above the majority class baseline).\n",
    "- [ ] Submit your final predictions to our Kaggle competition. Optionally, go to **My Submissions**, and _\"you may select up to 1 submission to be used to count towards your final leaderboard score.\"_\n",
    "- [ ] Commit your notebook to your fork of the GitHub repo.\n",
    "- [ ] Read [Maximizing Scarce Maintenance Resources with Data: Applying predictive modeling, precision at k, and clustering to optimize impact](https://towardsdatascience.com/maximizing-scarce-maintenance-resources-with-data-8f3491133050), by Lambda DS3 student Michael Brady. His blog post extends the Tanzania Waterpumps scenario, far beyond what's in the lecture notebook.\n",
    "\n",
    "\n",
    "## Stretch Goals\n",
    "\n",
    "### Reading\n",
    "\n",
    "- [Attacking discrimination with smarter machine learning](https://research.google.com/bigpicture/attacking-discrimination-in-ml/), by Google Research, with  interactive visualizations. _\"A threshold classifier essentially makes a yes/no decision, putting things in one category or another. We look at how these classifiers work, ways they can potentially be unfair, and how you might turn an unfair classifier into a fairer one. As an illustrative example, we focus on loan granting scenarios where a bank may grant or deny a loan based on a single, automatically computed number such as a credit score.\"_\n",
    "- [Notebook about how to calculate expected value from a confusion matrix by treating it as a cost-benefit matrix](https://github.com/podopie/DAT18NYC/blob/master/classes/13-expected_value_cost_benefit_analysis.ipynb)\n",
    "- [Visualizing Machine Learning Thresholds to Make Better Business Decisions](https://blog.insightdatascience.com/visualizing-machine-learning-thresholds-to-make-better-business-decisions-4ab07f823415)\n",
    "\n",
    "\n",
    "### Doing\n",
    "- [ ] Share visualizations in our Slack channel!\n",
    "- [ ] RandomizedSearchCV / GridSearchCV, for model selection. (See module 3 assignment notebook)\n",
    "- [ ] Stacking Ensemble. (See module 3 assignment notebook)\n",
    "- [ ] More Categorical Encoding. (See module 2 assignment notebook)"
   ]
  },
  {
   "cell_type": "code",
   "execution_count": 1,
   "metadata": {
    "colab": {},
    "colab_type": "code",
    "id": "lsbRiKBoB5RE"
   },
   "outputs": [],
   "source": [
    "%%capture\n",
    "import sys\n",
    "\n",
    "# If you're on Colab:\n",
    "if 'google.colab' in sys.modules:\n",
    "    DATA_PATH = 'https://raw.githubusercontent.com/LambdaSchool/DS-Unit-2-Kaggle-Challenge/master/data/'\n",
    "    !pip install category_encoders==2.*\n",
    "\n",
    "# If you're working locally:\n",
    "else:\n",
    "    DATA_PATH = '../data/'"
   ]
  },
  {
   "cell_type": "code",
   "execution_count": 2,
   "metadata": {
    "colab": {},
    "colab_type": "code",
    "id": "BVA1lph8CcNX"
   },
   "outputs": [],
   "source": [
    "import pandas as pd\n",
    "\n",
    "# Merge train_features.csv & train_labels.csv\n",
    "train = pd.merge(pd.read_csv(DATA_PATH+'waterpumps/train_features.csv'), \n",
    "                 pd.read_csv(DATA_PATH+'waterpumps/train_labels.csv'))\n",
    "\n",
    "# Read test_features.csv & sample_submission.csv\n",
    "test = pd.read_csv(DATA_PATH+'waterpumps/test_features.csv')\n",
    "sample_submission = pd.read_csv(DATA_PATH+'waterpumps/sample_submission.csv')"
   ]
  },
  {
   "cell_type": "code",
   "execution_count": 3,
   "metadata": {},
   "outputs": [],
   "source": [
    "import numpy as np\n",
    "import pandas as pd\n",
    "from sklearn.model_selection import train_test_split"
   ]
  },
  {
   "cell_type": "code",
   "execution_count": 4,
   "metadata": {},
   "outputs": [],
   "source": [
    "#train, val split\n",
    "train, val = train_test_split(train, train_size=.8, stratify=train['status_group'], random_state=22)"
   ]
  },
  {
   "cell_type": "code",
   "execution_count": 5,
   "metadata": {
    "scrolled": true
   },
   "outputs": [],
   "source": [
    "def wrangle(x):\n",
    "    '''\n",
    "    This function will clean up the dfs.\n",
    "    '''\n",
    "    #make a copy to avoid error warning\n",
    "    x = x.copy()\n",
    "    \n",
    "    #convert near zeros to zeros\n",
    "    x['latitude'] = x['latitude'].replace(-2e-08, 0)\n",
    "    \n",
    "    #convert missing values to NaNs and create '_missing column' \n",
    "    #to make sure that missing data is not a signal\n",
    "    cols_w_0 = ['longitude', 'latitude', 'construction_year', 'gps_height', 'population']\n",
    "    \n",
    "    for c in cols_w_0:\n",
    "        x[c] = x[c].replace(0, np.NaN)\n",
    "        x[c+'_missing'] = x[c].isnull()\n",
    "        \n",
    "    #drop duplicate columns\n",
    "    duplicates = ['quantity_group', 'payment_type']\n",
    "    x[c] = x[c].drop(columns=duplicates)\n",
    "    \n",
    "    #drop 'recorded_by' & 'id'\n",
    "    #'id' because it identifies individual wells (noise)\n",
    "    #'recorded_by' it is always the same\n",
    "    noise = ['recorded_by', 'id']\n",
    "    x = x.drop(columns=noise)\n",
    "    \n",
    "    #convert 'date_recorded' to datetime format\n",
    "    x['date_recorded'] = pd.to_datetime(x['date_recorded'], infer_datetime_format=True)\n",
    "    \n",
    "    #extract exponents from 'date_recorded'\n",
    "    x['year'] = x['date_recorded'].dt.year\n",
    "    x['month'] = x['date_recorded'].dt.month\n",
    "    x['day'] = x['date_recorded'].dt.day\n",
    "    x = x.drop(columns='date_recorded')\n",
    "    \n",
    "    #feature engineer column with age of well\n",
    "    x['age'] = x['year'] - x['construction_year']\n",
    "    x['year_missing'] = x['year'].isnull()\n",
    "    \n",
    "    return x"
   ]
  },
  {
   "cell_type": "code",
   "execution_count": 6,
   "metadata": {},
   "outputs": [],
   "source": [
    "train =  wrangle(train)\n",
    "val = wrangle(val)\n",
    "test = wrangle(test)"
   ]
  },
  {
   "cell_type": "code",
   "execution_count": 8,
   "metadata": {},
   "outputs": [],
   "source": [
    "#create target vector\n",
    "target = 'status_group'\n",
    "\n",
    "#get df without target vectors\n",
    "train_features = train.drop(columns=[target])\n",
    "\n",
    "#get a list of numeric features\n",
    "numeric_list = train_features.select_dtypes(include='number').columns.tolist()\n",
    "\n",
    "#get a series with the cardinality of nonnumeric features\n",
    "cardinality = train_features.select_dtypes(exclude='number').nunique()\n",
    "\n",
    "#get a list of all cardinal columsn with <= 50 categories\n",
    "categorical_list = cardinality[cardinality <= 50].index.tolist()\n",
    "\n",
    "#combine features lists\n",
    "features = numeric_list + categorical_list"
   ]
  },
  {
   "cell_type": "code",
   "execution_count": 10,
   "metadata": {},
   "outputs": [],
   "source": [
    "#arrange y vectors and x matrixes\n",
    "X_train = train[features]\n",
    "y_train = train[target]\n",
    "X_val = val[features]\n",
    "y_val = val[target]\n",
    "X_test = test[features]"
   ]
  },
  {
   "cell_type": "code",
   "execution_count": 12,
   "metadata": {},
   "outputs": [],
   "source": [
    "import category_encoders as ce\n",
    "from sklearn.ensemble import RandomForestClassifier\n",
    "from sklearn.impute import SimpleImputer\n",
    "from sklearn.pipeline import make_pipeline"
   ]
  },
  {
   "cell_type": "code",
   "execution_count": 13,
   "metadata": {},
   "outputs": [
    {
     "data": {
      "text/plain": [
       "functional                 25807\n",
       "non functional             18259\n",
       "functional needs repair     3454\n",
       "Name: status_group, dtype: int64"
      ]
     },
     "execution_count": 13,
     "metadata": {},
     "output_type": "execute_result"
    }
   ],
   "source": [
    "y_train.value_counts()"
   ]
  },
  {
   "cell_type": "code",
   "execution_count": 14,
   "metadata": {},
   "outputs": [],
   "source": [
    "y_train = y_train.replace({'functional': 1, 'non functional': 2, 'functional needs repair': 3})\n",
    "y_val = y_val.replace({'functional': 1, 'non functional': 2, 'functional needs repair': 3})"
   ]
  },
  {
   "cell_type": "code",
   "execution_count": 16,
   "metadata": {},
   "outputs": [],
   "source": [
    "from sklearn.model_selection import RandomizedSearchCV"
   ]
  },
  {
   "cell_type": "code",
   "execution_count": 19,
   "metadata": {},
   "outputs": [
    {
     "name": "stdout",
     "output_type": "stream",
     "text": [
      "Fitting 5 folds for each of 30 candidates, totalling 150 fits\n"
     ]
    },
    {
     "name": "stderr",
     "output_type": "stream",
     "text": [
      "[Parallel(n_jobs=-1)]: Using backend LokyBackend with 8 concurrent workers.\n",
      "[Parallel(n_jobs=-1)]: Done   2 tasks      | elapsed:   21.0s\n",
      "[Parallel(n_jobs=-1)]: Done   9 tasks      | elapsed:   41.4s\n",
      "[Parallel(n_jobs=-1)]: Done  16 tasks      | elapsed:   49.2s\n",
      "[Parallel(n_jobs=-1)]: Done  25 tasks      | elapsed:  1.4min\n",
      "[Parallel(n_jobs=-1)]: Done  34 tasks      | elapsed:  2.0min\n",
      "[Parallel(n_jobs=-1)]: Done  45 tasks      | elapsed:  2.7min\n",
      "[Parallel(n_jobs=-1)]: Done  56 tasks      | elapsed:  3.5min\n",
      "[Parallel(n_jobs=-1)]: Done  69 tasks      | elapsed:  4.6min\n",
      "[Parallel(n_jobs=-1)]: Done  82 tasks      | elapsed:  5.7min\n",
      "[Parallel(n_jobs=-1)]: Done  97 tasks      | elapsed:  6.7min\n",
      "[Parallel(n_jobs=-1)]: Done 112 tasks      | elapsed:  7.8min\n",
      "[Parallel(n_jobs=-1)]: Done 129 tasks      | elapsed: 10.0min\n",
      "[Parallel(n_jobs=-1)]: Done 150 out of 150 | elapsed: 12.7min finished\n"
     ]
    },
    {
     "data": {
      "text/plain": [
       "RandomizedSearchCV(cv=5, error_score=nan,\n",
       "                   estimator=Pipeline(memory=None,\n",
       "                                      steps=[('onehotencoder',\n",
       "                                              OneHotEncoder(cols=None,\n",
       "                                                            drop_invariant=False,\n",
       "                                                            handle_missing='value',\n",
       "                                                            handle_unknown='value',\n",
       "                                                            return_df=True,\n",
       "                                                            use_cat_names=True,\n",
       "                                                            verbose=0)),\n",
       "                                             ('simpleimputer',\n",
       "                                              SimpleImputer(add_indicator=False,\n",
       "                                                            copy=True,\n",
       "                                                            fill_value=None,\n",
       "                                                            missing_values=nan,\n",
       "                                                            strategy='mean',\n",
       "                                                            verbos...\n",
       "                                                                     warm_start=False))],\n",
       "                                      verbose=False),\n",
       "                   iid='deprecated', n_iter=30, n_jobs=-1,\n",
       "                   param_distributions={'randomforestclassifier__max_depth': [10,\n",
       "                                                                              20,\n",
       "                                                                              30,\n",
       "                                                                              40,\n",
       "                                                                              None],\n",
       "                                        'randomforestclassifier__min_samples_leaf': [1,\n",
       "                                                                                     3,\n",
       "                                                                                     5],\n",
       "                                        'simpleimputer__strategy': ['mean',\n",
       "                                                                    'median']},\n",
       "                   pre_dispatch='2*n_jobs', random_state=None, refit=True,\n",
       "                   return_train_score=True, scoring='neg_mean_absolute_error',\n",
       "                   verbose=10)"
      ]
     },
     "execution_count": 19,
     "metadata": {},
     "output_type": "execute_result"
    }
   ],
   "source": [
    "#build pipeline for model\n",
    "\n",
    "pipeline = make_pipeline(ce.OneHotEncoder(use_cat_names=True),\n",
    "                        SimpleImputer(),\n",
    "                        RandomForestClassifier(random_state=22))\n",
    "\n",
    "param_distributions = {\n",
    "    'simpleimputer__strategy': ['mean', 'median'],\n",
    "    'randomforestclassifier__max_depth': [10, 20, 30, 40, None],\n",
    "    'randomforestclassifier__min_samples_leaf': [1, 3, 5]\n",
    "}\n",
    "\n",
    "search = RandomizedSearchCV(pipeline, \n",
    "                           param_distributions=param_distributions,\n",
    "                           n_iter=30,\n",
    "                           cv=5,\n",
    "                           scoring='neg_mean_absolute_error',\n",
    "                           verbose=10,\n",
    "                           return_train_score=True,\n",
    "                           n_jobs=-1)\n",
    "\n",
    "search.fit(X_train, y_train)"
   ]
  },
  {
   "cell_type": "code",
   "execution_count": 22,
   "metadata": {},
   "outputs": [
    {
     "name": "stdout",
     "output_type": "stream",
     "text": [
      "Best HyperParameters: {'simpleimputer__strategy': 'median', 'randomforestclassifier__min_samples_leaf': 1, 'randomforestclassifier__max_depth': 20}\n",
      "Best Validation Score: 0.24728535353535355\n"
     ]
    }
   ],
   "source": [
    "print(f'Best HyperParameters: {search.best_params_}')\n",
    "print('Best Validation Score:', -search.best_score_)"
   ]
  },
  {
   "cell_type": "code",
   "execution_count": 23,
   "metadata": {},
   "outputs": [
    {
     "data": {
      "text/plain": [
       "Pipeline(memory=None,\n",
       "         steps=[('onehotencoder',\n",
       "                 OneHotEncoder(cols=['basin', 'region', 'public_meeting',\n",
       "                                     'scheme_management', 'permit',\n",
       "                                     'extraction_type', 'extraction_type_group',\n",
       "                                     'extraction_type_class', 'management',\n",
       "                                     'management_group', 'payment',\n",
       "                                     'payment_type', 'water_quality',\n",
       "                                     'quality_group', 'quantity',\n",
       "                                     'quantity_group', 'source', 'source_type',\n",
       "                                     'source_class', '...\n",
       "                 RandomForestClassifier(bootstrap=True, ccp_alpha=0.0,\n",
       "                                        class_weight=None, criterion='gini',\n",
       "                                        max_depth=20, max_features='auto',\n",
       "                                        max_leaf_nodes=None, max_samples=None,\n",
       "                                        min_impurity_decrease=0.0,\n",
       "                                        min_impurity_split=None,\n",
       "                                        min_samples_leaf=1, min_samples_split=2,\n",
       "                                        min_weight_fraction_leaf=0.0,\n",
       "                                        n_estimators=100, n_jobs=None,\n",
       "                                        oob_score=False, random_state=22,\n",
       "                                        verbose=0, warm_start=False))],\n",
       "         verbose=False)"
      ]
     },
     "execution_count": 23,
     "metadata": {},
     "output_type": "execute_result"
    }
   ],
   "source": [
    "pipeline = make_pipeline(ce.OneHotEncoder(use_cat_names=True),\n",
    "                        SimpleImputer(strategy='median'),\n",
    "                        RandomForestClassifier(random_state=22, min_samples_leaf=1, max_depth=20))\n",
    "\n",
    "pipeline.fit(X_train, y_train)"
   ]
  },
  {
   "cell_type": "code",
   "execution_count": 25,
   "metadata": {},
   "outputs": [
    {
     "data": {
      "text/plain": [
       "0.8115319865319865"
      ]
     },
     "execution_count": 25,
     "metadata": {},
     "output_type": "execute_result"
    }
   ],
   "source": [
    "pipeline.score(X_val,y_val)"
   ]
  },
  {
   "cell_type": "code",
   "execution_count": 27,
   "metadata": {},
   "outputs": [],
   "source": [
    "y_pred = pipeline.predict(X_test)\n",
    "y_pred = pd.DataFrame(y_pred)\n",
    "y_pred = y_pred.replace({1:'functional', 2:'non functional', 3: 'functional needs repair'})\n",
    "sample_submission['status_group'] = y_pred\n",
    "t_submission = sample_submission.copy()\n",
    "t_submission.to_csv('CJ-Ricciardi-Final-Submission', index=False)"
   ]
  },
  {
   "cell_type": "code",
   "execution_count": 28,
   "metadata": {},
   "outputs": [],
   "source": [
    "from sklearn.metrics import plot_confusion_matrix"
   ]
  },
  {
   "cell_type": "code",
   "execution_count": 30,
   "metadata": {},
   "outputs": [
    {
     "data": {
      "text/plain": [
       "<sklearn.metrics._plot.confusion_matrix.ConfusionMatrixDisplay at 0x20fa1a9e1c8>"
      ]
     },
     "execution_count": 30,
     "metadata": {},
     "output_type": "execute_result"
    },
    {
     "data": {
      "image/png": "[encoded data removed]",
      "text/plain": [
       "<Figure size 432x288 with 2 Axes>"
      ]
     },
     "metadata": {
      "needs_background": "light"
     },
     "output_type": "display_data"
    }
   ],
   "source": [
    "plot_confusion_matrix(pipeline, X_val, y_val, xticks_rotation='vertical', values_format='.0f')"
   ]
  },
  {
   "cell_type": "code",
   "execution_count": null,
   "metadata": {},
   "outputs": [],
   "source": []
  }
 ],
 "metadata": {
  "kernelspec": {
   "display_name": "Python 3",
   "language": "python",
   "name": "python3"
  },
  "language_info": {
   "codemirror_mode": {
    "name": "ipython",
    "version": 3
   },
   "file_extension": ".py",
   "mimetype": "text/x-python",
   "name": "python",
   "nbconvert_exporter": "python",
   "pygments_lexer": "ipython3",
   "version": "3.7.6"
  }
 },
 "nbformat": 4,
 "nbformat_minor": 1
}
